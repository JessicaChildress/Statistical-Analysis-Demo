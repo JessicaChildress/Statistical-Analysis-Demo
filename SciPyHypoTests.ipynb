{
 "cells": [
  {
   "cell_type": "markdown",
   "metadata": {},
   "source": [
    "# SciPy Hypothesis Testing Exercises \n",
    "\n",
    "For each exercise, \n",
    "* describe the problem \n",
    "* describe the data\n",
    "* explain how you know what type of hypothesis t-test to perform\n",
    "\n",
    "\n",
    "\n",
    "\n"
   ]
  },
  {
   "cell_type": "markdown",
   "metadata": {},
   "source": [
    "## 1. Is the mean age of women who had a stroke greater than the mean age of the men who had a stroke? \n",
    "Use $\\alpha = 0.05$"
   ]
  },
  {
   "cell_type": "code",
   "execution_count": 262,
   "metadata": {},
   "outputs": [
    {
     "name": "stdout",
     "output_type": "stream",
     "text": [
      "70.08\n",
      "72.605\n"
     ]
    }
   ],
   "source": [
    "import pandas as pd\n",
    "import utils\n",
    "import importlib\n",
    "importlib.reload(utils)\n",
    "# pull the cleaned patient EDA from DA5 repository:\n",
    "\n",
    "patient_data_df = pd.read_csv(\"../DA5/cleaned_patientEDA.csv\")\n",
    "\n",
    "# extract the mean age of women who had a stroke and mean age of men who had a stroke:\n",
    "# average age for male stroke patients:\n",
    "most_common_RIC = patient_data_df[\"RIC\"].mode().iloc[0]\n",
    "male_stroke_age = []\n",
    "female_stroke_age = []\n",
    "for i in range(len(patient_data_df[\"RIC\"])):\n",
    "    curr_patient = patient_data_df[\"RIC\"].iloc[i]\n",
    "    if most_common_RIC in curr_patient:\n",
    "        if \"M\" in patient_data_df[\"Gender\"].iloc[i]:\n",
    "            male_stroke_age.append(patient_data_df[\"Age\"].iloc[i])\n",
    "        elif \"F\" in patient_data_df[\"Gender\"].iloc[i]:\n",
    "            female_stroke_age.append(patient_data_df[\"Age\"].iloc[i])\n",
    "male_stroke_age_ser = pd.Series(male_stroke_age)\n",
    "n_men = len(male_stroke_age_ser)\n",
    "stroke_age_male_avg = round(male_stroke_age_ser.mean(), 2)\n",
    "print(stroke_age_male_avg)\n",
    "\n",
    "# average age for female stroke patients:\n",
    "female_stroke_age_ser = pd.Series(female_stroke_age)\n",
    "n_women = len(female_stroke_age_ser)\n",
    "stroke_age_female_avg = round(female_stroke_age_ser.mean(), 3)\n",
    "print(stroke_age_female_avg)\n",
    "\n"
   ]
  },
  {
   "cell_type": "markdown",
   "metadata": {},
   "source": [
    "### 5-step approach\n",
    "\n",
    "1. Identify $H_{0}$ and $H_{1}$\n",
    "* $H_{0} = \\mu_{women} \\leq \\mu_{men}$\n",
    "* $H_{1} = \\mu_{women} > \\mu_{men}$\n",
    "\n",
    "\n",
    "2. Level of significance\n",
    "* $\\alpha = 0.05$ \n",
    "\n",
    "3. Select the appropriate statistic\n",
    "* Since we are working with two unrelated groups, we will use an independent two-sample test\n",
    "* `ttest_ind()`\n",
    "\n",
    "\n",
    "* $ t = \\frac{\\overline{X_{1}} - \\overline{X_{2}}}{\\sqrt{s_{p}^2 (\\frac{1}{n_{1}} + \\frac{1}{n_{2}})}} $\n",
    "\n",
    "4. Formulate the Decision Rule\n",
    "* with $\\alpha = 0.05$ and the degrees of freedom being 561, the t-critical value is roughly 1.965. This means:\n",
    "* If t-computed is $> 1.965$, then the null hypothesis will be rejected\n",
    "* If t-computed is $\\leq 1.965$, then the null hypothesis cannot be rejected\n"
   ]
  },
  {
   "cell_type": "code",
   "execution_count": 263,
   "metadata": {},
   "outputs": [
    {
     "name": "stdout",
     "output_type": "stream",
     "text": [
      "degrees of freedeom: 561\n",
      "t: 3.0212409378467506 pval: 0.0012861144659843757\n",
      "reject null hyp\n"
     ]
    }
   ],
   "source": [
    "# calculate the pooled variance:\n",
    "import numpy as np \n",
    "from scipy import stats\n",
    "\n",
    "# pooled_variance = ((n_women - 1)^2 + (n_men-1)^2) / (n_women + n_men - 2)\n",
    "# print(pooled_variance)\n",
    "n = len(female_stroke_age_ser) \n",
    "dof = n-1\n",
    "print(\"degrees of freedeom:\", dof)\n",
    "# t_computed = (stroke_age_female_avg - stroke_age_male_avg) / (np.sqrt(pooled_variance * ((1/n_women) + (1/n_men))))\n",
    "# print(\"t-computed manual:\", t_computed)\n",
    "\n",
    "t_comp, pval = stats.ttest_ind(female_stroke_age_ser, male_stroke_age_ser)\n",
    "pval /= 2 # divide by 2 because there is only 1 rejection region \n",
    "print(\"t:\", t_comp, \"pval:\", pval)\n",
    "alpha = 0.05\n",
    "if pval < alpha:\n",
    "    print(\"reject null hyp\")\n",
    "else:\n",
    "    print(\"do not reject null hyp\")"
   ]
  },
  {
   "cell_type": "markdown",
   "metadata": {},
   "source": [
    "### Conclusion (Step 5):\n",
    "* Sicne the t-computed is 3.02, which is greater than 1.965, the null hypothesis should be rejected. This means that the average age of female stroke patients was indeed higher than that of the male stroke patients. "
   ]
  },
  {
   "cell_type": "markdown",
   "metadata": {},
   "source": [
    "# 2. Determine the number of days that 222 students are active on Ed compared to 322 students \n",
    "Use $\\alpha = 0.001$"
   ]
  },
  {
   "cell_type": "code",
   "execution_count": 264,
   "metadata": {},
   "outputs": [],
   "source": [
    "# first, import the data into pandas dataframes\n",
    "\n",
    "df_222 = pd.read_json(\"ed_222.json\")\n",
    "# print(df_222.head())\n",
    "\n",
    "df_322 = pd.read_json(\"ed_322.json\")\n",
    "# print(df_322.head())"
   ]
  },
  {
   "cell_type": "markdown",
   "metadata": {},
   "source": [
    "### Now, to perform the 5-step hypothesis test\n",
    "\n",
    "1. Identify the hypotheses\n",
    "* $H_{0} = \\mu_{222} = \\mu_{322}$  \n",
    "no difference in the number of days that 222 students are active on Ed versus 322\n",
    "* $H_{1} = \\mu_{222} \\neq \\mu_{322}$  \n",
    "students in 222 are not active on Ed the same amount as students in 322\n",
    "\n",
    "\n",
    "2. Level of Significance\n",
    "* $\\alpha = 0.001$\n",
    "\n",
    "3. Test Statistic \n",
    "* This is going to be a two-tailed test because we want to know if there is any difference whether that is more or less activity by one group over the other. Furthermore, this is an independent test because the two groups are not related. \n",
    "* $t = \\frac{\\overline{d} - \\mu_{d}}{s_{\\overline{d}}}$\n",
    "* use `ttest_rel()`\n",
    "\n",
    "4. Formulate Decision Rule\n",
    "* With $\\alpha = 0.001$, we need to know the degrees of freedom\n"
   ]
  },
  {
   "cell_type": "code",
   "execution_count": 265,
   "metadata": {},
   "outputs": [
    {
     "name": "stdout",
     "output_type": "stream",
     "text": [
      "92\n"
     ]
    }
   ],
   "source": [
    "# calculate the degrees of freedom to find t-critical:\n",
    "dof = len(df_222) + len(df_322) - 2\n",
    "print(dof)"
   ]
  },
  {
   "cell_type": "markdown",
   "metadata": {},
   "source": [
    "4. continued...\n",
    "* degrees of freedom = 31\n",
    "* thus, our t-critical value is 3.633\n",
    "* If t-computed $ > 3.633$ or $ < -3.633$, then we must reject the null hypothesis \n",
    "* If $-3.633 < t < 3.633$, then we do not reject the null hypothesis"
   ]
  },
  {
   "cell_type": "code",
   "execution_count": 266,
   "metadata": {},
   "outputs": [
    {
     "name": "stdout",
     "output_type": "stream",
     "text": [
      "t: -5.487771363199516 pval: 3.5684494006989487e-07\n",
      "reject null hyp\n"
     ]
    }
   ],
   "source": [
    "# For step five, we will use Scipy to find t-computed:\n",
    "\n",
    "t_comp, pval = stats.ttest_ind(df_222[\"Days Active\"], df_322[\"Days Active\"])\n",
    "print(\"t:\", t_comp, \"pval:\", pval)\n",
    "alpha = 0.001\n",
    "if pval < alpha:\n",
    "    print(\"reject null hyp\")\n",
    "else:\n",
    "    print(\"do not reject null hyp\")"
   ]
  },
  {
   "cell_type": "markdown",
   "metadata": {},
   "source": [
    "### Conclusion (step 5):\n",
    "* based on the t-computed score, we must reject the null hypothesis because t-computed lies beyond the t-critical value. in other words, the 222 students (since the t-computed value is negative), were active for *less* days than the 322 students. "
   ]
  },
  {
   "cell_type": "markdown",
   "metadata": {},
   "source": [
    "# 3.  is the mean duration for students who took the quiz remotely greater than the mean duration for students who took the quiz in the classroom? \n",
    "Use a level of significance of 0.005"
   ]
  },
  {
   "cell_type": "code",
   "execution_count": 267,
   "metadata": {},
   "outputs": [
    {
     "name": "stdout",
     "output_type": "stream",
     "text": [
      "   In-person  Hours Start to Finish\n",
      "0          0                   0.14\n",
      "1          0                   0.10\n",
      "2          0                   0.13\n",
      "3          0                   0.10\n",
      "4          0                   0.16\n",
      "0.09478260869565218 0.12333333333333335\n",
      "degrees of freedom: 92\n"
     ]
    }
   ],
   "source": [
    "# import the data into a dataframe\n",
    "\n",
    "df_quiz = pd.read_csv(\"IQ1_quiz_durations.csv\")\n",
    "print(df_quiz.head())\n",
    "\n",
    "# separate the data into a series for the students who took the quiz remotely and a series for those who took it in-person\n",
    "in_person_time = []\n",
    "remote_time = []\n",
    "\n",
    "df_quiz[\"In-person\"] = df_quiz[\"In-person\"].astype('string')\n",
    "for i in range(len(df_quiz)):\n",
    "    curr_student = df_quiz[\"In-person\"].iloc[i]\n",
    "    if \"0\" in curr_student:\n",
    "        remote_time.append(df_quiz[\"Hours Start to Finish\"].iloc[i])\n",
    "    elif \"1\" in curr_student:\n",
    "        in_person_time.append(df_quiz[\"Hours Start to Finish\"].iloc[i])\n",
    "# print(in_person_time, remote_time)\n",
    "\n",
    "ipt = pd.Series(in_person_time)\n",
    "rt = pd.Series(remote_time)\n",
    "\n",
    "x_bar_ipt = ipt.mean()\n",
    "x_bar_rt = rt.mean()\n",
    "print(x_bar_ipt, x_bar_rt)\n",
    "\n",
    "print(\"degrees of freedom:\", (len(ipt) + len(rt) - 2))"
   ]
  },
  {
   "cell_type": "markdown",
   "metadata": {},
   "source": [
    "## Now that we have some data to work with, let's perform the 5-steps:\n",
    "\n",
    "1. Hypotheses\n",
    "* $H_{0} = \\mu_{remote} \\leq \\mu_{in-person}$  \n",
    "The remote students took, on average, the same amount or less time to complete IQ1.\n",
    "* $H_{1} = \\mu_{remote} > \\mu{in-person}$  \n",
    "The remote students took, on average, more time to complete IQ1.\n",
    "\n",
    "2. Level of Significance\n",
    "$ \\alpha = 0.005$ \n",
    "\n",
    "3. Test Statistic\n",
    "* we are working with two samples and they are independent of one another, thus we will be using the following formula for t-computed\n",
    "*  $ t = \\frac{\\overline{X_{1}} - \\overline{X_{2}}}{\\sqrt{s_{p}^2 (\\frac{1}{n_{1}} + \\frac{1}{n_{2}})}} $\n",
    "\n",
    "4. Decision Rule:\n",
    "* t-critical = $\\frac{2.871}{2}  \n",
    "we divide by two because this is a one-tailed test"
   ]
  },
  {
   "cell_type": "code",
   "execution_count": 268,
   "metadata": {},
   "outputs": [
    {
     "name": "stdout",
     "output_type": "stream",
     "text": [
      "t: 4.12720417112991 pval: 4.029306042293943e-05\n",
      "reject null hyp\n"
     ]
    }
   ],
   "source": [
    "# Now we will use SciPy to find t-computed:\n",
    "\n",
    "t_comp, pval = stats.ttest_ind(rt, ipt)\n",
    "pval /= 2 # divide by 2 because there is only 1 rejection region \n",
    "print(\"t:\", t_comp, \"pval:\", pval)\n",
    "alpha = 0.005\n",
    "if pval < alpha:\n",
    "    print(\"reject null hyp\")\n",
    "else:\n",
    "    print(\"do not reject null hyp\")"
   ]
  },
  {
   "cell_type": "markdown",
   "metadata": {},
   "source": [
    "### Conclusion (step 5):\n",
    "Since our t-computed is 4.127 and that is outside the scope of non-rejection range, we must reject the null hypothesis. In other words, the remote students did indeed take a longer time, on average, to complete IQ1. "
   ]
  },
  {
   "cell_type": "markdown",
   "metadata": {},
   "source": [
    "# 4. Did the subjects perform the trial faster after one week of pysical therapy?\n",
    "Use $\\alpha = 0.01$"
   ]
  },
  {
   "cell_type": "code",
   "execution_count": 269,
   "metadata": {},
   "outputs": [
    {
     "name": "stdout",
     "output_type": "stream",
     "text": [
      "degrees of freedom: 26 164.77485593962967 122.18973897185187\n"
     ]
    }
   ],
   "source": [
    "# import the data and prepare it for statistical analysis!\n",
    "\n",
    "df_trials = pd.read_csv(\"circuit_trials.csv\")\n",
    "\n",
    "before = []\n",
    "after = []\n",
    "for i in range(len(df_trials)):\n",
    "    curr_patient = df_trials[\"Trial ID\"].iloc[i]\n",
    "    if \"A\" in curr_patient:\n",
    "        before.append(df_trials[\"Duration\"].iloc[i])\n",
    "    elif \"B\" in curr_patient:\n",
    "        after.append(df_trials[\"Duration\"].iloc[i])\n",
    "\n",
    "A_ser = pd.Series(before)\n",
    "B_ser = pd.Series(after)\n",
    "\n",
    "x_bar_A = A_ser.mean()\n",
    "x_bar_b = B_ser.mean()\n",
    "\n",
    "dof = len(A_ser) - 1\n",
    "print(\"degrees of freedom:\", dof, x_bar_A, x_bar_b)"
   ]
  },
  {
   "cell_type": "markdown",
   "metadata": {},
   "source": [
    "Now that we have done some preliminary preparation of the data, it is time to perform the 5-step hypothesis test\n",
    "\n",
    "1. identify null and alternative hypotheses\n",
    "* $H_{0} = \\mu_{B} \\geq \\mu_{A}$  \n",
    "The average duration of the patients after PT was greater than or equal to the average duration before.\n",
    "* $H_{1} = \\mu_{B} < \\mu{A}$  \n",
    "The average duration of the pateitns after PT was less than that before PT.\n",
    "\n",
    "2. Level of Significance \n",
    "*  $\\alpha = 0.01$\n",
    "\n",
    "3. Select Appropriate test statistic\n",
    "* Since we are working with one-tailed data and two dependent samples, \n",
    "* $t = \\frac{\\overline{d} - \\mu_{d}}{s_{\\overline{d}}}$\n",
    "\n",
    "\n",
    "4. Decision Rules\n",
    "* we will use $\\alpha = 0.01$ and degrees of freedom = 26 to find t-critical:\n",
    "* t-critical = 2.479\n",
    "* If t-computed $\\geq 2.479$, then do not reject null hypothesis \n",
    "* If t-compued $< 2.479$, then reject null hypothesis"
   ]
  },
  {
   "cell_type": "code",
   "execution_count": 270,
   "metadata": {},
   "outputs": [
    {
     "name": "stdout",
     "output_type": "stream",
     "text": [
      "t: -3.336688368513952 pval: 0.0012809826011843611\n",
      "reject null hyp\n"
     ]
    }
   ],
   "source": [
    "# Now we can use SciPy to calculate t-computed:\n",
    "\n",
    "t_comp, pval = stats.ttest_rel(B_ser, A_ser)\n",
    "pval /= 2 # divide by 2 because there is only 1 rejection region \n",
    "print(\"t:\", t_comp, \"pval:\", pval)\n",
    "alpha = 0.01\n",
    "if pval < alpha:\n",
    "    print(\"reject null hyp\")\n",
    "else:\n",
    "    print(\"do not reject null hyp\")"
   ]
  },
  {
   "cell_type": "markdown",
   "metadata": {},
   "source": [
    "### Conclusion (step 5):\n",
    "Based on the calculations made using SciPy, our t-computed is beyond the scope of non-rejection, thus we can conclude that the physical therapy did in fact improve(lessen) the average duration of time taken to perform the activity by patients. "
   ]
  },
  {
   "cell_type": "markdown",
   "metadata": {},
   "source": [
    "# 5. Working with GU website traffic data "
   ]
  },
  {
   "cell_type": "code",
   "execution_count": 271,
   "metadata": {},
   "outputs": [
    {
     "name": "stdout",
     "output_type": "stream",
     "text": [
      "         Day      Date  New Visitor  Returning Visitor\n",
      "0     Monday  1/1/2018            9                 36\n",
      "1    Tuesday  1/2/2018           48                217\n",
      "2  Wednesday  1/3/2018         6008               3094\n",
      "3   Thursday  1/4/2018         6202               3455\n",
      "4     Friday  1/5/2018         4619               3190\n",
      "MAXIMUMS:\n",
      " Day                  Wednesday\n",
      "Date                  9/9/2021\n",
      "New Visitor             117050\n",
      "Returning Visitor        14730\n",
      "dtype: object\n",
      "MINIMUMS:\n",
      " Day                    Friday\n",
      "Date                 1/1/2018\n",
      "New Visitor                 2\n",
      "Returning Visitor          36\n",
      "dtype: object\n"
     ]
    }
   ],
   "source": [
    "# First and foremost we must import the data! \n",
    "\n",
    "web_df = pd.read_csv(\"GU_website.csv\")\n",
    "print(web_df.head())\n",
    "\n",
    "print(\"MAXIMUMS:\\n\", web_df.max())\n",
    "print(\"MINIMUMS:\\n\", web_df.min())"
   ]
  },
  {
   "cell_type": "code",
   "execution_count": 272,
   "metadata": {},
   "outputs": [
    {
     "name": "stdout",
     "output_type": "stream",
     "text": [
      "returns: 4846.866493843163 new: 4727.9384316267015\n"
     ]
    }
   ],
   "source": [
    "x_bar_returns = web_df[\"Returning Visitor\"].mean()\n",
    "x_bar_new = web_df[\"New Visitor\"].mean()\n",
    "print(\"returns:\", x_bar_returns,\"new:\", x_bar_new)"
   ]
  },
  {
   "cell_type": "markdown",
   "metadata": {},
   "source": [
    "## Analyze by day of the week"
   ]
  },
  {
   "cell_type": "code",
   "execution_count": 273,
   "metadata": {},
   "outputs": [
    {
     "data": {
      "text/plain": [
       "<AxesSubplot:xlabel='0'>"
      ]
     },
     "execution_count": 273,
     "metadata": {},
     "output_type": "execute_result"
    },
    {
     "data": {
      "image/png": "[encoded data removed]",
      "text/plain": [
       "<Figure size 432x288 with 1 Axes>"
      ]
     },
     "metadata": {
      "needs_background": "light"
     },
     "output_type": "display_data"
    },
    {
     "data": {
      "image/png": "[encoded data removed]",
      "text/plain": [
       "<Figure size 432x288 with 1 Axes>"
      ]
     },
     "metadata": {
      "needs_background": "light"
     },
     "output_type": "display_data"
    }
   ],
   "source": [
    "grouped_by_day = web_df.groupby('Day')\n",
    "\n",
    "# Split & Apply\n",
    "mon_new, mon_return = utils.get_series(grouped_by_day, 'Monday')\n",
    "tues_new, tues_return = utils.get_series(grouped_by_day, 'Tuesday')\n",
    "wed_new, wed_return = utils.get_series(grouped_by_day, 'Wednesday')\n",
    "thur_new, thur_return = utils.get_series(grouped_by_day, 'Thursday')\n",
    "fri_new, fri_return = utils.get_series(grouped_by_day, 'Friday')\n",
    "sat_new, sat_return = utils.get_series(grouped_by_day, 'Saturday')\n",
    "sun_new, sun_return = utils.get_series(grouped_by_day, 'Sunday')\n",
    "\n",
    "# Combine\n",
    "new_daily_df = pd.DataFrame([['monday', mon_new],\n",
    "                             ['tuesday', tues_new],\n",
    "                             ['wednesday', wed_new],\n",
    "                             ['thursday', thur_new],\n",
    "                             ['friday', fri_new],\n",
    "                             ['saturday', sat_new],\n",
    "                             ['sunday', sun_new]])\n",
    "\n",
    "return_daily_df = pd.DataFrame([['monday', mon_return],\n",
    "                             ['tuesday', tues_return],\n",
    "                             ['wednesday', wed_return],\n",
    "                             ['thursday', thur_return],\n",
    "                             ['friday', fri_return],\n",
    "                             ['saturday', sat_return],\n",
    "                             ['sunday', sun_return]])\n",
    "                            \n",
    "# visualize\n",
    "\n",
    "new_daily_df.plot.bar(x=0, y=1)\n",
    "\n",
    "return_daily_df.plot.bar(x=0, y=1, color='green')\n",
    "\n"
   ]
  },
  {
   "cell_type": "markdown",
   "metadata": {},
   "source": [
    "## Analyze by month of year"
   ]
  },
  {
   "cell_type": "code",
   "execution_count": 274,
   "metadata": {},
   "outputs": [
    {
     "name": "stderr",
     "output_type": "stream",
     "text": [
      "c:\\Users\\jskye\\anaconda3\\lib\\site-packages\\pandas\\core\\indexing.py:1732: SettingWithCopyWarning: \n",
      "A value is trying to be set on a copy of a slice from a DataFrame\n",
      "\n",
      "See the caveats in the documentation: https://pandas.pydata.org/pandas-docs/stable/user_guide/indexing.html#returning-a-view-versus-a-copy\n",
      "  self._setitem_single_block(indexer, value, name)\n"
     ]
    },
    {
     "data": {
      "text/html": [
       "<div>\n",
       "<style scoped>\n",
       "    .dataframe tbody tr th:only-of-type {\n",
       "        vertical-align: middle;\n",
       "    }\n",
       "\n",
       "    .dataframe tbody tr th {\n",
       "        vertical-align: top;\n",
       "    }\n",
       "\n",
       "    .dataframe thead th {\n",
       "        text-align: right;\n",
       "    }\n",
       "</style>\n",
       "<table border=\"1\" class=\"dataframe\">\n",
       "  <thead>\n",
       "    <tr style=\"text-align: right;\">\n",
       "      <th></th>\n",
       "      <th>Day</th>\n",
       "      <th>Month</th>\n",
       "      <th>New Visitor</th>\n",
       "      <th>Returning Visitor</th>\n",
       "    </tr>\n",
       "  </thead>\n",
       "  <tbody>\n",
       "    <tr>\n",
       "      <th>0</th>\n",
       "      <td>Monday</td>\n",
       "      <td>january</td>\n",
       "      <td>9</td>\n",
       "      <td>36</td>\n",
       "    </tr>\n",
       "    <tr>\n",
       "      <th>1</th>\n",
       "      <td>Tuesday</td>\n",
       "      <td>january</td>\n",
       "      <td>48</td>\n",
       "      <td>217</td>\n",
       "    </tr>\n",
       "    <tr>\n",
       "      <th>2</th>\n",
       "      <td>Wednesday</td>\n",
       "      <td>january</td>\n",
       "      <td>6008</td>\n",
       "      <td>3094</td>\n",
       "    </tr>\n",
       "    <tr>\n",
       "      <th>3</th>\n",
       "      <td>Thursday</td>\n",
       "      <td>january</td>\n",
       "      <td>6202</td>\n",
       "      <td>3455</td>\n",
       "    </tr>\n",
       "    <tr>\n",
       "      <th>4</th>\n",
       "      <td>Friday</td>\n",
       "      <td>january</td>\n",
       "      <td>4619</td>\n",
       "      <td>3190</td>\n",
       "    </tr>\n",
       "    <tr>\n",
       "      <th>31</th>\n",
       "      <td>Thursday</td>\n",
       "      <td>february</td>\n",
       "      <td>4963</td>\n",
       "      <td>6221</td>\n",
       "    </tr>\n",
       "    <tr>\n",
       "      <th>32</th>\n",
       "      <td>Friday</td>\n",
       "      <td>february</td>\n",
       "      <td>3700</td>\n",
       "      <td>4537</td>\n",
       "    </tr>\n",
       "    <tr>\n",
       "      <th>33</th>\n",
       "      <td>Saturday</td>\n",
       "      <td>february</td>\n",
       "      <td>3678</td>\n",
       "      <td>2624</td>\n",
       "    </tr>\n",
       "    <tr>\n",
       "      <th>34</th>\n",
       "      <td>Sunday</td>\n",
       "      <td>february</td>\n",
       "      <td>2690</td>\n",
       "      <td>2970</td>\n",
       "    </tr>\n",
       "    <tr>\n",
       "      <th>35</th>\n",
       "      <td>Monday</td>\n",
       "      <td>february</td>\n",
       "      <td>4453</td>\n",
       "      <td>6221</td>\n",
       "    </tr>\n",
       "    <tr>\n",
       "      <th>59</th>\n",
       "      <td>Thursday</td>\n",
       "      <td>march</td>\n",
       "      <td>3774</td>\n",
       "      <td>5339</td>\n",
       "    </tr>\n",
       "    <tr>\n",
       "      <th>60</th>\n",
       "      <td>Friday</td>\n",
       "      <td>march</td>\n",
       "      <td>1571</td>\n",
       "      <td>2153</td>\n",
       "    </tr>\n",
       "    <tr>\n",
       "      <th>61</th>\n",
       "      <td>Saturday</td>\n",
       "      <td>march</td>\n",
       "      <td>3069</td>\n",
       "      <td>2348</td>\n",
       "    </tr>\n",
       "    <tr>\n",
       "      <th>62</th>\n",
       "      <td>Sunday</td>\n",
       "      <td>march</td>\n",
       "      <td>2941</td>\n",
       "      <td>3044</td>\n",
       "    </tr>\n",
       "    <tr>\n",
       "      <th>63</th>\n",
       "      <td>Monday</td>\n",
       "      <td>march</td>\n",
       "      <td>5078</td>\n",
       "      <td>5432</td>\n",
       "    </tr>\n",
       "    <tr>\n",
       "      <th>90</th>\n",
       "      <td>Sunday</td>\n",
       "      <td>april</td>\n",
       "      <td>2719</td>\n",
       "      <td>2694</td>\n",
       "    </tr>\n",
       "    <tr>\n",
       "      <th>91</th>\n",
       "      <td>Monday</td>\n",
       "      <td>april</td>\n",
       "      <td>4080</td>\n",
       "      <td>4594</td>\n",
       "    </tr>\n",
       "    <tr>\n",
       "      <th>92</th>\n",
       "      <td>Tuesday</td>\n",
       "      <td>april</td>\n",
       "      <td>4006</td>\n",
       "      <td>6730</td>\n",
       "    </tr>\n",
       "    <tr>\n",
       "      <th>93</th>\n",
       "      <td>Wednesday</td>\n",
       "      <td>april</td>\n",
       "      <td>3770</td>\n",
       "      <td>6494</td>\n",
       "    </tr>\n",
       "    <tr>\n",
       "      <th>94</th>\n",
       "      <td>Thursday</td>\n",
       "      <td>april</td>\n",
       "      <td>3815</td>\n",
       "      <td>5955</td>\n",
       "    </tr>\n",
       "    <tr>\n",
       "      <th>120</th>\n",
       "      <td>Tuesday</td>\n",
       "      <td>may</td>\n",
       "      <td>3685</td>\n",
       "      <td>6322</td>\n",
       "    </tr>\n",
       "    <tr>\n",
       "      <th>121</th>\n",
       "      <td>Wednesday</td>\n",
       "      <td>may</td>\n",
       "      <td>3462</td>\n",
       "      <td>5866</td>\n",
       "    </tr>\n",
       "    <tr>\n",
       "      <th>122</th>\n",
       "      <td>Thursday</td>\n",
       "      <td>may</td>\n",
       "      <td>3402</td>\n",
       "      <td>5594</td>\n",
       "    </tr>\n",
       "    <tr>\n",
       "      <th>123</th>\n",
       "      <td>Friday</td>\n",
       "      <td>may</td>\n",
       "      <td>3057</td>\n",
       "      <td>4732</td>\n",
       "    </tr>\n",
       "    <tr>\n",
       "      <th>124</th>\n",
       "      <td>Saturday</td>\n",
       "      <td>may</td>\n",
       "      <td>2181</td>\n",
       "      <td>2838</td>\n",
       "    </tr>\n",
       "    <tr>\n",
       "      <th>151</th>\n",
       "      <td>Friday</td>\n",
       "      <td>june</td>\n",
       "      <td>2598</td>\n",
       "      <td>3540</td>\n",
       "    </tr>\n",
       "    <tr>\n",
       "      <th>152</th>\n",
       "      <td>Saturday</td>\n",
       "      <td>june</td>\n",
       "      <td>1844</td>\n",
       "      <td>1886</td>\n",
       "    </tr>\n",
       "    <tr>\n",
       "      <th>153</th>\n",
       "      <td>Sunday</td>\n",
       "      <td>june</td>\n",
       "      <td>1969</td>\n",
       "      <td>1890</td>\n",
       "    </tr>\n",
       "    <tr>\n",
       "      <th>154</th>\n",
       "      <td>Monday</td>\n",
       "      <td>june</td>\n",
       "      <td>2911</td>\n",
       "      <td>3669</td>\n",
       "    </tr>\n",
       "    <tr>\n",
       "      <th>155</th>\n",
       "      <td>Tuesday</td>\n",
       "      <td>june</td>\n",
       "      <td>2751</td>\n",
       "      <td>3498</td>\n",
       "    </tr>\n",
       "    <tr>\n",
       "      <th>181</th>\n",
       "      <td>Sunday</td>\n",
       "      <td>july</td>\n",
       "      <td>1738</td>\n",
       "      <td>1747</td>\n",
       "    </tr>\n",
       "    <tr>\n",
       "      <th>182</th>\n",
       "      <td>Monday</td>\n",
       "      <td>july</td>\n",
       "      <td>2659</td>\n",
       "      <td>3487</td>\n",
       "    </tr>\n",
       "    <tr>\n",
       "      <th>183</th>\n",
       "      <td>Tuesday</td>\n",
       "      <td>july</td>\n",
       "      <td>2167</td>\n",
       "      <td>3061</td>\n",
       "    </tr>\n",
       "    <tr>\n",
       "      <th>184</th>\n",
       "      <td>Wednesday</td>\n",
       "      <td>july</td>\n",
       "      <td>1560</td>\n",
       "      <td>1370</td>\n",
       "    </tr>\n",
       "    <tr>\n",
       "      <th>185</th>\n",
       "      <td>Thursday</td>\n",
       "      <td>july</td>\n",
       "      <td>2430</td>\n",
       "      <td>3221</td>\n",
       "    </tr>\n",
       "    <tr>\n",
       "      <th>212</th>\n",
       "      <td>Wednesday</td>\n",
       "      <td>august</td>\n",
       "      <td>3734</td>\n",
       "      <td>5082</td>\n",
       "    </tr>\n",
       "    <tr>\n",
       "      <th>213</th>\n",
       "      <td>Thursday</td>\n",
       "      <td>august</td>\n",
       "      <td>3178</td>\n",
       "      <td>4393</td>\n",
       "    </tr>\n",
       "    <tr>\n",
       "      <th>214</th>\n",
       "      <td>Friday</td>\n",
       "      <td>august</td>\n",
       "      <td>2744</td>\n",
       "      <td>3867</td>\n",
       "    </tr>\n",
       "    <tr>\n",
       "      <th>215</th>\n",
       "      <td>Saturday</td>\n",
       "      <td>august</td>\n",
       "      <td>1920</td>\n",
       "      <td>2261</td>\n",
       "    </tr>\n",
       "    <tr>\n",
       "      <th>216</th>\n",
       "      <td>Sunday</td>\n",
       "      <td>august</td>\n",
       "      <td>1997</td>\n",
       "      <td>2332</td>\n",
       "    </tr>\n",
       "    <tr>\n",
       "      <th>243</th>\n",
       "      <td>Saturday</td>\n",
       "      <td>september</td>\n",
       "      <td>2074</td>\n",
       "      <td>2887</td>\n",
       "    </tr>\n",
       "    <tr>\n",
       "      <th>244</th>\n",
       "      <td>Sunday</td>\n",
       "      <td>september</td>\n",
       "      <td>2052</td>\n",
       "      <td>3210</td>\n",
       "    </tr>\n",
       "    <tr>\n",
       "      <th>245</th>\n",
       "      <td>Monday</td>\n",
       "      <td>september</td>\n",
       "      <td>2656</td>\n",
       "      <td>4504</td>\n",
       "    </tr>\n",
       "    <tr>\n",
       "      <th>246</th>\n",
       "      <td>Tuesday</td>\n",
       "      <td>september</td>\n",
       "      <td>3819</td>\n",
       "      <td>6903</td>\n",
       "    </tr>\n",
       "    <tr>\n",
       "      <th>247</th>\n",
       "      <td>Wednesday</td>\n",
       "      <td>september</td>\n",
       "      <td>3747</td>\n",
       "      <td>6721</td>\n",
       "    </tr>\n",
       "  </tbody>\n",
       "</table>\n",
       "</div>"
      ],
      "text/plain": [
       "           Day      Month  New Visitor  Returning Visitor\n",
       "0       Monday    january            9                 36\n",
       "1      Tuesday    january           48                217\n",
       "2    Wednesday    january         6008               3094\n",
       "3     Thursday    january         6202               3455\n",
       "4       Friday    january         4619               3190\n",
       "31    Thursday   february         4963               6221\n",
       "32      Friday   february         3700               4537\n",
       "33    Saturday   february         3678               2624\n",
       "34      Sunday   february         2690               2970\n",
       "35      Monday   february         4453               6221\n",
       "59    Thursday      march         3774               5339\n",
       "60      Friday      march         1571               2153\n",
       "61    Saturday      march         3069               2348\n",
       "62      Sunday      march         2941               3044\n",
       "63      Monday      march         5078               5432\n",
       "90      Sunday      april         2719               2694\n",
       "91      Monday      april         4080               4594\n",
       "92     Tuesday      april         4006               6730\n",
       "93   Wednesday      april         3770               6494\n",
       "94    Thursday      april         3815               5955\n",
       "120    Tuesday        may         3685               6322\n",
       "121  Wednesday        may         3462               5866\n",
       "122   Thursday        may         3402               5594\n",
       "123     Friday        may         3057               4732\n",
       "124   Saturday        may         2181               2838\n",
       "151     Friday       june         2598               3540\n",
       "152   Saturday       june         1844               1886\n",
       "153     Sunday       june         1969               1890\n",
       "154     Monday       june         2911               3669\n",
       "155    Tuesday       june         2751               3498\n",
       "181     Sunday       july         1738               1747\n",
       "182     Monday       july         2659               3487\n",
       "183    Tuesday       july         2167               3061\n",
       "184  Wednesday       july         1560               1370\n",
       "185   Thursday       july         2430               3221\n",
       "212  Wednesday     august         3734               5082\n",
       "213   Thursday     august         3178               4393\n",
       "214     Friday     august         2744               3867\n",
       "215   Saturday     august         1920               2261\n",
       "216     Sunday     august         1997               2332\n",
       "243   Saturday  september         2074               2887\n",
       "244     Sunday  september         2052               3210\n",
       "245     Monday  september         2656               4504\n",
       "246    Tuesday  september         3819               6903\n",
       "247  Wednesday  september         3747               6721"
      ]
     },
     "execution_count": 274,
     "metadata": {},
     "output_type": "execute_result"
    }
   ],
   "source": [
    "# need to figure out how to group data by month \n",
    "add_month_df = utils.get_month(web_df)\n",
    "add_month_df.rename(columns= {'Date' : 'Month'}, inplace=True)\n",
    "grouped_by_month = add_month_df.groupby('Month')\n",
    "grouped_by_month.head()\n",
    "\n",
    "# Split \n",
    "# jan = \n",
    "# feb = \n",
    "# march = \n",
    "# april = \n",
    "# may = \n",
    "# june = \n",
    "# july = \n",
    "# aug = \n",
    "# sept = \n",
    "# octo = \n",
    "# nov = \n",
    "# dec = \n"
   ]
  }
 ],
 "metadata": {
  "kernelspec": {
   "display_name": "Python 3.9.7 ('base')",
   "language": "python",
   "name": "python3"
  },
  "language_info": {
   "codemirror_mode": {
    "name": "ipython",
    "version": 3
   },
   "file_extension": ".py",
   "mimetype": "text/x-python",
   "name": "python",
   "nbconvert_exporter": "python",
   "pygments_lexer": "ipython3",
   "version": "3.9.7"
  },
  "orig_nbformat": 4,
  "vscode": {
   "interpreter": {
    "hash": "d39278030b8cdfddab1ee69d65cded590a3b76e14bf3d1e4ef88bfde762024ed"
   }
  }
 },
 "nbformat": 4,
 "nbformat_minor": 2
}
