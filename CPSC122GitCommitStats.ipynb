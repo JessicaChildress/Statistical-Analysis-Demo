{
 "cells": [
  {
   "cell_type": "code",
   "execution_count": 19,
   "metadata": {},
   "outputs": [],
   "source": [
    "import pandas as pd\n",
    "\n",
    "s1 =  [4, 44, 21, 45, 3, 43, 19, 36, 68, 63, 24, 39, 42, 45, 25, 20, 24, 31, 2, 25, 30, 31, 24, 16, 44]\n",
    "s2 = [10, 22, 40, 58, 49, 64, 26, 57, 139, 49, 41, 66, 12, 40, 20, 67, 106, 4, 46, 4, 34, 12, 48, 11, 62]\n",
    "s1 = pd.Series(s1)\n",
    "s2 = pd.Series(s2)\n"
   ]
  },
  {
   "cell_type": "markdown",
   "metadata": {},
   "source": [
    "## Mid-Value : The number that corresponds to halfway between the largest and smallest values in the dataset.  \n",
    "\n",
    "####  $$ MidValue = \\frac{l + s}{2}$$\n",
    "\n",
    "$$\n",
    "\\begin{align*}\n",
    "\\textsf{where }l &= \\textsf{the largest value in the series} \\\\   \n",
    "\\textsf{and }s &= \\textsf{the smallest value in the series} \\\\\n",
    "\\end{align*}\n",
    "$$"
   ]
  },
  {
   "cell_type": "code",
   "execution_count": 37,
   "metadata": {},
   "outputs": [
    {
     "name": "stdout",
     "output_type": "stream",
     "text": [
      "mid value for s2: 71.5\n"
     ]
    }
   ],
   "source": [
    "# Calculate the Mid-Value for s2:\n",
    "\n",
    "# step one: sort s2 so that the smallest and largest values\n",
    "# correspond to the first and last indeces of the Series.\n",
    "s2_sorted = s2.sort_values(ascending=True, ignore_index=True)\n",
    "# step two: add the first and last values of each ~sorted~ series and divide the sum by 2\n",
    "mid_val_s2 = ((s2_sorted.iloc[0] + s2_sorted.iloc[-1])/2)\n",
    "print(\"mid value for s2:\", mid_val_s2)"
   ]
  },
  {
   "cell_type": "markdown",
   "metadata": {},
   "source": [
    "## Mean: the sum of all of the values in a dataset divided by the amount of values. \n",
    "\n",
    "#### $$ \\overline{x} = \\frac{\\sum X}{n} $$ \n",
    "\n",
    "$$\n",
    "\\begin{align*}\n",
    "\\textsf{where }\\overline{x} &= \\textsf{the sample mean}  \\\\\n",
    "\\sum X &= \\textsf{the sum of all the values in the dataset} \\\\  \n",
    "n &= \\textsf{the sample size} \\\\\n",
    "\\end{align*}\n",
    "$$"
   ]
  },
  {
   "cell_type": "code",
   "execution_count": 21,
   "metadata": {},
   "outputs": [
    {
     "name": "stdout",
     "output_type": "stream",
     "text": [
      "x_bar for s2: 43.48\n"
     ]
    }
   ],
   "source": [
    "# Calculate the Mean for s2:\n",
    "\n",
    "# step one: find the sum of all the values in the Series\n",
    "sum_2 = s2.sum()\n",
    "# step two: divide the sum by the length of the Series\n",
    "x_bar_s2 = sum_2 / len(s2)\n",
    "print(\"x_bar for s2:\", x_bar_s2)"
   ]
  },
  {
   "cell_type": "markdown",
   "metadata": {},
   "source": [
    "## Median: the middle value in the dataset \n",
    "#### $$ median =  \\frac{n}{2} $$\n",
    "\n",
    "$$\n",
    "\\begin{align*}\n",
    "\\textsf{where }n &= \\textsf{the sample size}  \\\\ \n",
    "\\end{align*}\n"
   ]
  },
  {
   "cell_type": "code",
   "execution_count": 29,
   "metadata": {},
   "outputs": [
    {
     "name": "stdout",
     "output_type": "stream",
     "text": [
      "median for s2: 41\n"
     ]
    }
   ],
   "source": [
    "# Calculate the Median for s2:\n",
    "\n",
    "# step one: use the sorted s2 Series from calculating \n",
    "# divide the length of s2 by 2\n",
    "# the median is that element in the series \n",
    "median_s2 = (s2_sorted.iloc[len(s2_sorted) // 2])\n",
    "print(\"median for s2:\", median_s2)"
   ]
  },
  {
   "cell_type": "markdown",
   "metadata": {},
   "source": [
    "## Mode: the most frequently (re)occuring value in a dataset\n",
    "\n",
    "$$Mode =  l + \\left[\\frac{f_m - f_1}{(f_m - f_1)+(f_m - f_2)}\\right] * h  $$\n",
    "\n",
    "$$ \n",
    "\\begin{align*}\n",
    "\\textsf{where }l &= \\textsf{lower limit of the modal class} \\\\\n",
    "f_m &= \\textsf{frequency of the modal class} \\\\\n",
    "f_1 &= \\textsf{frecuency of the class preceding the modal class} \\\\\n",
    "f_2 &= \\textsf{frecuency of the class succeeding the modal class} \\\\\n",
    "h &= \\textsf{width of the modal class}& \\\\\n",
    "\\end{align*} \n",
    "$$\n",
    "\n",
    "        "
   ]
  },
  {
   "cell_type": "markdown",
   "metadata": {},
   "source": []
  },
  {
   "cell_type": "code",
   "execution_count": null,
   "metadata": {},
   "outputs": [
    {
     "name": "stdout",
     "output_type": "stream",
     "text": [
      "mode of s2:\n",
      "0     4\n",
      "1    12\n",
      "2    40\n",
      "3    49\n",
      "dtype: int64\n"
     ]
    }
   ],
   "source": [
    "# Calculate the mode of s2\n",
    "\n",
    "#step one: determine the value in the series that occurs most frequently\n",
    "mode_s2 = s2.mode()\n",
    "print(\"mode of s2:\", mode_s2, sep=\"\\n\")"
   ]
  },
  {
   "cell_type": "markdown",
   "metadata": {},
   "source": [
    "## Range: the spread or dispersion of a dataset\n",
    "\n",
    "#### $$ range = l - s $$\n",
    "\n",
    "$$\n",
    "\\begin{align*}\n",
    "\\textsf{where }l &= \\textsf{the largest value in the series} \\\\   \n",
    "\\textsf{and }s &= \\textsf{the smallest value in the series} \\\\\n",
    "\\end{align*}\n",
    "$$"
   ]
  },
  {
   "cell_type": "code",
   "execution_count": null,
   "metadata": {},
   "outputs": [
    {
     "name": "stdout",
     "output_type": "stream",
     "text": [
      "range: 135\n"
     ]
    }
   ],
   "source": [
    "# Calculate the range of s2\n",
    "\n",
    "# Step one: determine the smallest and largest values of the series\n",
    "# the easiest way to do this is by grabbing the first and last \n",
    "# values of the ordered series:\n",
    "l = s2_sorted.iloc[-1]\n",
    "s = s2_sorted.iloc[0]\n",
    "# step two: find the difference between the two values to get the range:\n",
    "range_s2 = l - s\n",
    "print(\"range:\", range_s2)"
   ]
  },
  {
   "cell_type": "markdown",
   "metadata": {},
   "source": [
    "## Quartiles: 3 data points that divide the dataset into 4 quarters\n",
    "\n",
    "$$ \\begin{align*}\n",
    "    \\textsf{1st quartile: } Q1 &= \\frac{n+1}{4} \\\\\n",
    "    \\textsf{2nd quartile: } Q2 &= \\frac{n+1}{2} \\\\\n",
    "    \\textsf{3rd quartile: } Q3 &= \\frac{3(n+1)}{4} \\\\\n",
    "    \\end{align*}\n",
    "$$\n",
    "\n",
    "$$\n",
    "\\begin{align*}\n",
    "\\textsf{where } n &= \\textsf{the sample size}\n",
    "\\end{align*}\n",
    "$$"
   ]
  },
  {
   "cell_type": "code",
   "execution_count": null,
   "metadata": {},
   "outputs": [
    {
     "name": "stdout",
     "output_type": "stream",
     "text": [
      "Q1: 6.5 \n",
      "Q2: 35.0 \n",
      "Q3: 19.5\n"
     ]
    }
   ],
   "source": [
    "# Calculate the quartiles of s2\n",
    "\n",
    "# step one: let's find Q2 first since it is the same as the median\n",
    "Q2 = median_s2\n",
    "\n",
    "# step two: find n\n",
    "n = len(s2)\n",
    "\n",
    "# step three: find Q1 and Q3 using the formulas above\n",
    "Q1 = (n+1) / 4\n",
    "Q3 = (3*(n+1)) / 4\n",
    "\n",
    "print(\"Q1:\", Q1, \"\\nQ2:\", Q2, \"\\nQ3:\", Q3)"
   ]
  },
  {
   "cell_type": "markdown",
   "metadata": {},
   "source": [
    "## Variance: measures the spread of data from the mean\n",
    "\n",
    "#### $$ s^2 = \\frac{\\sum (x-\\overline{x})^2}{n-1} $$\n",
    "\n",
    "$$\n",
    "\\begin{align*}\n",
    "\\textsf{where } s^2 &= \\textsf{sample variance} \\\\\n",
    "\\sum &= \\textsf{the sum of...} \\\\\n",
    "X &= \\textsf{each value} \\\\\n",
    "\\overline{x} &= \\textsf{sample mean} \\\\\n",
    "\\textsf{and } n &= \\textsf{the sample size} \\\\\n",
    "\\end{align*}\n",
    "$$"
   ]
  },
  {
   "cell_type": "code",
   "execution_count": null,
   "metadata": {},
   "outputs": [
    {
     "name": "stdout",
     "output_type": "stream",
     "text": [
      "variance of s2: 961.0896\n"
     ]
    }
   ],
   "source": [
    "# Find the variance of s2\n",
    "\n",
    "# step one: find the mean (recall that we made this calculation earlier)\n",
    "x_bar_s2 = sum_2 / len(s2)\n",
    "\n",
    "# step two: find each value's deviation from the mean and store it in a series\n",
    "dev = []\n",
    "for i in range(len(s2)):\n",
    "    dev.append(s2.iloc[i] - x_bar_s2)\n",
    "dev = pd.Series(dev)\n",
    "\n",
    "# step three: square each deviation\n",
    "dev_squared = []\n",
    "for i in range(len(dev)):\n",
    "    dev_squared.append(pow(dev.iloc[i], 2))\n",
    "dev = pd.Series(dev_squared)\n",
    "\n",
    "# step four: find the sum of squares\n",
    "sum_of_squares = dev.sum()\n",
    "\n",
    "# step five: divide the sum of squares by n-1\n",
    "variance_s2 = sum_of_squares / n - 1\n",
    "\n",
    "print(\"variance of s2:\", variance_s2)\n"
   ]
  },
  {
   "cell_type": "markdown",
   "metadata": {},
   "source": [
    "## Standard Deviation: the square root of variance\n",
    "\n",
    "#### $$ s = \\sqrt{\\frac{\\sum (x-\\overline{x})^2}{n-1}} $$\n",
    "\n",
    "$$\n",
    "\\begin{align*}\n",
    "\\textsf{where } s &= \\textsf{sample standard deviation} \\\\\n",
    "\\sum &= \\textsf{the sum of...} \\\\\n",
    "X &= \\textsf{each value} \\\\\n",
    "\\overline{x} &= \\textsf{sample mean} \\\\\n",
    "\\textsf{and } n &= \\textsf{the sample size} \\\\\n",
    "\\end{align*}\n",
    "$$"
   ]
  },
  {
   "cell_type": "code",
   "execution_count": null,
   "metadata": {},
   "outputs": [
    {
     "name": "stdout",
     "output_type": "stream",
     "text": [
      "standard deviation of s2: 31.00144512760655\n"
     ]
    }
   ],
   "source": [
    "# Calculate the standard deviation of s2\n",
    "import numpy as np\n",
    "\n",
    "# the one-step way to do this is simply by taking the square root of the sample variance\n",
    "std_s2 = np.sqrt(variance_s2)\n",
    "\n",
    "print(\"standard deviation of s2:\", std_s2)"
   ]
  },
  {
   "cell_type": "markdown",
   "metadata": {},
   "source": [
    "## 95% Confidence Interval for $\\mu$ (S1)\n",
    "\n",
    "#### $$ \\textsf{Confidence Interval for } \\mu = \\overline{X} \\pm t * \\frac{s}{\\sqrt{n}} $$ \n",
    "\n",
    "$$\n",
    "\\begin{align*}\n",
    "\\textsf{where }\\overline{X} &= \\textsf{sample mean} \\\\\n",
    "t &= \\frac{\\overline{x} - \\mu}{s / \\sqrt{n}} \\\\\n",
    "s &= \\textsf{sample standard deviation} \\\\\n",
    "n &= \\textsf{sample size} \\\\\n",
    "\\end{align*}\n",
    "$$\n",
    "\n",
    "#### Calculating the margin of error: \n",
    "To calculate the margin of error, we need to take into account the interval in which the statistic is 95% likely to reside. This is represented by the $\\pm$ symbol which requires us to calculate an upper and lower value that create our margin of error. \n"
   ]
  },
  {
   "cell_type": "code",
   "execution_count": null,
   "metadata": {},
   "outputs": [
    {
     "name": "stdout",
     "output_type": "stream",
     "text": [
      "24\n",
      "95 percent confidence interval of s1: [23.854270159232886, 37.585729840767115]\n",
      "in other words, the margin of error is between: 23.854 and 37.586\n"
     ]
    }
   ],
   "source": [
    "# Calculate the 95% confidence interval for the population mean of s1 \n",
    "# ** Note: we are working with section one data this time so new \n",
    "#          variables and calculations are required!!\n",
    "\n",
    "# step one: determine the sample mean of s1\n",
    "x_bar_s1 = s1.sum() / len(s1)\n",
    "\n",
    "# step two: find n\n",
    "n = len(s1)\n",
    "\n",
    "# step three: determine the t-value using the formula above \n",
    "# since we want the 95% confidence interval, we are working with a\n",
    "# level of significance of 0.05. We also need to know our degrees of\n",
    "# freedom which is n-1. \n",
    "df = n - 1 \n",
    "print(df) # our df should be 24 since there are 25 students in each section\n",
    "t_from_table = 2.064\n",
    "\n",
    "# step four: find s (the standard deviation of s1)\n",
    "std_s1 = s1.std()\n",
    "\n",
    "# find the upper and lower confidence intervals:\n",
    "margin_of_error_s1 = (t_from_table * (std_s1 / np.sqrt(n))) # calculates everything after the +/- sign\n",
    "upper_1 = x_bar_s1 + margin_of_error_s1\n",
    "lower_1 = x_bar_s1 - margin_of_error_s1\n",
    "conf_int_s1 = [lower_1, upper_1]\n",
    "print(\"95 percent confidence interval of s1:\", conf_int_s1)\n",
    "print(\"in other words, the margin of error is between:\", round(conf_int_s1[0], 3), \"and\", round(conf_int_s1[1],3))"
   ]
  },
  {
   "cell_type": "markdown",
   "metadata": {},
   "source": [
    "## 95% Confidence Interval for $\\mu$ (S2)\n",
    "\n",
    "#### $$ \\textsf{Confidence Interval for } \\mu = \\overline{X} \\pm t * \\frac{s}{\\sqrt{n}} $$ \n",
    "\n",
    "$$\n",
    "\\begin{align*}\n",
    "\\textsf{where }\\overline{X} &= \\textsf{sample mean} \\\\\n",
    "t &= \\frac{\\overline{x} - \\mu}{s / \\sqrt{n}} \\\\\n",
    "s &= \\textsf{sample standard deviation} \\\\\n",
    "n &= \\textsf{sample size} \\\\\n",
    "\\end{align*}\n",
    "$$\n",
    "\n",
    "#### Calculating the margin of error: \n",
    "The same process is used to calculate the margin of error for S2: we need to take into account the interval in which the statistic is 95% likely to reside. This is represented by the $\\pm$ symbol which requires us to calculate an upper and lower value that create our margin of error. "
   ]
  },
  {
   "cell_type": "code",
   "execution_count": null,
   "metadata": {},
   "outputs": [
    {
     "name": "stdout",
     "output_type": "stream",
     "text": [
      "95 percent confidence interval of s2: [30.682603451324013, 56.27739654867598]\n",
      "in other words, the margin of error is between: 30.683 and 56.277\n"
     ]
    }
   ],
   "source": [
    "# Determine the 95% Confidence Interval for the population mean of S2: \n",
    "\n",
    "# Step One: determine the sample mean (x bar) for s2\n",
    "# we already calculated this and the value is stored in the variable: x_bar_s2\n",
    "\n",
    "# Step Two: find n\n",
    "n = len(s2) # should be 25\n",
    "\n",
    "# Step Three: determine the t-value using the formula above \n",
    "# since we want the 95% confidence interval, we are working with a\n",
    "# level of significance of 0.05. We also need to know our degrees of\n",
    "# freedom which is n-1. \n",
    "df = n - 1   # our df should be 24 since there are 25 students in each section\n",
    "t_from_table = 2.064\n",
    "\n",
    "# step four: find s (the standard deviation of s1)\n",
    "# this is stored in std_s2! \n",
    "\n",
    "# step five: \n",
    "# find the upper and lower confidence intervals:\n",
    "margin_of_error_s2 = (t_from_table * (std_s2 / np.sqrt(n))) # calculates everything after the +/- sign\n",
    "upper = x_bar_s2 + margin_of_error_s2\n",
    "lower = x_bar_s2 - margin_of_error_s2\n",
    "conf_int_s2 = [lower, upper]\n",
    "print(\"95 percent confidence interval of s2:\", conf_int_s2)\n",
    "print(\"in other words, the margin of error is between:\", round(conf_int_s2[0], 3), \"and\", round(conf_int_s2[1],3))\n",
    "\n"
   ]
  },
  {
   "cell_type": "markdown",
   "metadata": {},
   "source": [
    "## Now to visualize the confidence intervals of s1 and s2"
   ]
  },
  {
   "cell_type": "code",
   "execution_count": null,
   "metadata": {},
   "outputs": [
    {
     "data": {
      "image/png": "[encoded data removed]",
      "text/plain": [
       "<Figure size 432x288 with 1 Axes>"
      ]
     },
     "metadata": {
      "needs_background": "light"
     },
     "output_type": "display_data"
    },
    {
     "data": {
      "image/png": "[encoded data removed]",
      "text/plain": [
       "<Figure size 432x288 with 1 Axes>"
      ]
     },
     "metadata": {
      "needs_background": "light"
     },
     "output_type": "display_data"
    }
   ],
   "source": [
    "from matplotlib import pyplot as plt \n",
    "\n",
    "\n",
    "plt.plot([1], [x_bar_s1], marker=\"o\", color=\"red\")\n",
    "plt.plot([1,1], conf_int_s1, color=\"red\")\n",
    "plt.title(\"Section 1 Confidence Interval\")\n",
    "plt.xticks([1], [\"sample (n=25)\"])\n",
    "plt.show()\n",
    "\n",
    "plt.plot([1], [x_bar_s2], marker=\"o\", color=\"blue\")\n",
    "plt.plot([1,1], conf_int_s2, color=\"blue\")\n",
    "plt.title(\"Section 2 Confidence Interval\")\n",
    "plt.xticks([1], [\"sample (n=25)\"])\n",
    "plt.show()\n"
   ]
  },
  {
   "cell_type": "markdown",
   "metadata": {},
   "source": [
    "# One-Sample, One-Tailed t-test of $\\mu$\n",
    "\n",
    "Use the t-test to calculate the following hypothesis:\n",
    "\n",
    "#### *Did the S2 students commit more than 28 times on average?*\n",
    "\n",
    "(4 commits per assignment) Use a level of significance of 0.025.\n",
    "\n",
    "### Let's solve this using the 5 step hypothesis testing approach\n",
    "\n",
    "1. Identify the \"null\"($H_{0}$) and \"alternative\"($H_{1}$) hypotheses\n",
    "    * $H_{0} = \\mu_{S2} \\leq 28$  \n",
    "    the average # of commits from the students in section 2 $\\leq 28$ \n",
    "\n",
    "    \n",
    "    * $H_{1} = \\mu_{S2} > 28$  \n",
    "    the average # of commits from the students in section 2 $> 28$\n",
    "\n",
    "\n",
    "\n",
    "1. Select the level of significance\n",
    "    * $\\alpha = 0.025$\n",
    "\n",
    "1. Select the Appropriate test statistic\n",
    "    * since we are dealing with one group (S2), we will be using the one-sample test\n",
    "    * $t-computed = \\frac{(\\overline{x} - \\mu)}{s / \\sqrt{n}}$ \n",
    "    * the python function is `ttest_1samp()`\n",
    "\n",
    "1. Formulate the decision rule\n",
    "    * degrees of freedom = $n-1 = 25 - 1 = 24$\n",
    "    * using what we know about $\\alpha$ and the degrees of freedom, we can determine the t-critical value using a t-table.\n",
    "    * t-critical = 2.064 \n",
    "    * If t-computed $>$ than 2.064, then we must reject $H_{0}$\n",
    "    * If t-computed $\\leq$ 2.064, then we do not reject $H_{0}$\n",
    "\n",
    "1. Make a decision\n",
    "    * This means we must calculate t-computed:\n",
    "\n",
    "        * the numerator: $(\\overline{x} - \\mu) = (43.48 - 37.1) = 6.38 $     \n",
    "\n",
    "        * the denominator: $ \\frac{s}{\\sqrt{n}} = \\frac{31.657}{\\sqrt{25}} = \\frac{31.657}{5} = 6.3314 $\n",
    "\n",
    "        * t-computed = $\\frac{6.38}{6.3314} = 1.0077$ \n",
    "        ***** Should be 2.45****** \n"
   ]
  },
  {
   "cell_type": "markdown",
   "metadata": {},
   "source": [
    "### Conclusion: \n",
    "Since t-computed is 2.45 $> 2.064$, we must reject the null hypothesis. This means that the students in section 2 committed more than 28 times on average."
   ]
  },
  {
   "cell_type": "code",
   "execution_count": null,
   "metadata": {},
   "outputs": [
    {
     "name": "stdout",
     "output_type": "stream",
     "text": [
      "t: 2.444943441931012 pval: 0.02220467189851255\n",
      "reject null hypothesis\n"
     ]
    }
   ],
   "source": [
    "# Time to check our work using Python\n",
    "from scipy import stats\n",
    "\n",
    "t, pval = stats.ttest_1samp(s2, 28)\n",
    "print(\"t:\", t, \"pval:\", pval)\n",
    "\n",
    "\n",
    "alpha = 0.025\n",
    "if pval < alpha:\n",
    "    print(\"reject null hypothesis\")\n",
    "else:\n",
    "    print(\"do not reject null hypothesis\")\n"
   ]
  },
  {
   "cell_type": "markdown",
   "metadata": {},
   "source": [
    "# Two-sample, One-tailed t-test of $\\mu$'s\n",
    "\n",
    "Use the t-test to calculate the following hypothesis: \n",
    "\n",
    "### Did the s2 students commit *more* on average than the s1 students? Use a level of significance of 0.01 ($\\alpha$).\n",
    "\n",
    "Let's use the 5-step hypothesis testing approach:\n",
    "\n",
    "1. Identify the null and alternative hypotheses\n",
    "    * $H_{0} = \\mu_{s2} \\leq \\mu_{s1}$  \n",
    "    -->In other words, the average number of commits in section 2 is less than or equal to that of section 1.\n",
    "\n",
    "    * $H_{1} = \\mu_{s2} > \\mu_{s1}$  \n",
    "    -->In other words, the average number of commits in section 2 is greater than that of section one.  \n",
    "\n",
    "1. Select the level of significance\n",
    "    * $\\alpha = 0.01$\n",
    "\n",
    "1. Select the appropriate test statistic\n",
    "    * since we are dealing with two independent sample groups,  \n",
    "    $ t = \\frac{\\overline{X_{1}} - \\overline{X_{2}}}{\\sqrt{s_{p}^2 (\\frac{1}{n_{1}} + \\frac{1}{n_{2}})}} $\n",
    "    * Use `ttest_ind()`\n",
    "\n",
    "1. Formulate the decision rule:\n",
    "    * $\\alpha = 0.01$\n",
    "    * degrees of freedom = $n_{s2} + n_{s1} - 2 = 25 + 25 - 2 = 48$\n",
    "    * t-critical = $\\frac{2.682}{2} = 1.341$\n",
    "    * if t-computed $> 1.341$, then reject $H_{0}$\n",
    "    * if t-computed $\\leq 1.341$, then do not reject $H_{0}$\n",
    "\n",
    "1. Make a decision\n",
    "    * In order to make a decision, we must use the formula from step 3 to find the t-computed.\n",
    "        * numerator = $(43.38 - 30.72) = 12.66$ \n",
    "        * $s_{p}^2 = \\frac{24^2 + 24^2}{25 + 25 - 2} = \\frac{1152}{48} = 24$\n",
    "        * denominator = $ \\sqrt{24*(\\frac{1}{24} + \\frac{1}{24})} = \\sqrt{24*(\\frac{1}{12})} = \\sqrt{2} $\n",
    "        * t-computed = $\\frac{12.66}{\\sqrt{2}} = 8.952$"
   ]
  },
  {
   "cell_type": "markdown",
   "metadata": {},
   "source": [
    "### Conclusion: \n",
    "Since t-computed = 1.784 \\leq t-critical, the null hypothesis should not be rejected. In other words, the students in section 2 did not commit more on average than the s1 students. "
   ]
  },
  {
   "cell_type": "code",
   "execution_count": null,
   "metadata": {},
   "outputs": [
    {
     "name": "stdout",
     "output_type": "stream",
     "text": [
      "t: 1.784098380137661 pval: 0.041383224909752096\n",
      "do not reject null hyp\n"
     ]
    }
   ],
   "source": [
    "# Check our Work with SciPy\n",
    "# 1-tailed test:\n",
    "t_computed, pval = stats.ttest_ind(s2, s1, equal_var=False)\n",
    "pval /= 2 # divide by 2 because there is only 1 rejection region \n",
    "print(\"t:\", t_computed, \"pval:\", pval)\n",
    "alpha = 0.01\n",
    "if pval < alpha:\n",
    "    print(\"reject null hyp\")\n",
    "else:\n",
    "    print(\"do not reject null hyp\")"
   ]
  }
 ],
 "metadata": {
  "interpreter": {
   "hash": "9eca0f8e8b5ed14a8159c77e9a9affa65fdf3bec561237f1140d81a05605e1db"
  },
  "kernelspec": {
   "display_name": "Python 3.9.7 ('base')",
   "language": "python",
   "name": "python3"
  },
  "language_info": {
   "codemirror_mode": {
    "name": "ipython",
    "version": 3
   },
   "file_extension": ".py",
   "mimetype": "text/x-python",
   "name": "python",
   "nbconvert_exporter": "python",
   "pygments_lexer": "ipython3",
   "version": "3.9.7"
  },
  "orig_nbformat": 4
 },
 "nbformat": 4,
 "nbformat_minor": 2
}
